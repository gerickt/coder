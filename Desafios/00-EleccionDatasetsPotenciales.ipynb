{
 "cells": [
  {
   "cell_type": "markdown",
   "metadata": {},
   "source": [
    "### Desafío 01 - Elección de Datasets Potenciales\n",
    "\n",
    "Gerick Toro - Comisión 46270\n",
    "\n",
    "---\n",
    "\n",
    "### I: Descarga de los datasets"
   ]
  },
  {
   "cell_type": "code",
   "execution_count": null,
   "metadata": {},
   "outputs": [],
   "source": [
    "# En caso de tener las librerias, descomentar para instalar\n",
    "\n",
    "#!pip install requests\n",
    "#!pip install pandas"
   ]
  },
  {
   "cell_type": "code",
   "execution_count": 7,
   "metadata": {},
   "outputs": [],
   "source": [
    "# Librerias necesarias para obtener los datasets\n",
    "import requests\n",
    "import zipfile\n",
    "import io\n",
    "import pandas as pd"
   ]
  },
  {
   "cell_type": "code",
   "execution_count": 13,
   "metadata": {},
   "outputs": [],
   "source": [
    "# Opcional, los datasets ya se encuentran en el directorio \"Data\"\n",
    "# Datasets publicos potenciales\n",
    "datasets = {\n",
    "    \"OnlineChessGames\": \"https://maven-datasets.s3.amazonaws.com/Online+Chess+Games/Online+Chess+Games.zip\",\n",
    "    \"AirlinePassengerSatisfaction\": \"https://maven-datasets.s3.amazonaws.com/Airline+Passenger+Satisfaction/Airline+Passenger+Satisfaction.zip\",\n",
    "    \"MarketingCampaignResults\": \"https://maven-datasets.s3.amazonaws.com/Marketing+Campaigns/Marketing+Data.zip\",\n",
    "}\n",
    "\n",
    "# Descargamos y descomprimimos los datasets\n",
    "for name, url in datasets.items():\n",
    "    response = requests.get(url)\n",
    "    zip_ref = zipfile.ZipFile(io.BytesIO(response.content))\n",
    "    extract_path = f\"../Data/{name}\"  # Path donde guardaremos los datasets\n",
    "    zip_ref.extractall(extract_path)\n",
    "\n",
    "# Limpiamos las variables, que ya no volveremos a usar\n",
    "del datasets, extract_path, name, response, url, zip_ref"
   ]
  },
  {
   "cell_type": "markdown",
   "metadata": {},
   "source": [
    "---\n",
    "\n",
    "### II: Construcción de los dataframes"
   ]
  },
  {
   "cell_type": "code",
   "execution_count": 15,
   "metadata": {},
   "outputs": [],
   "source": [
    "# Dataframe 01 y diccionario de campos: Airline Passenger Satisfaction\n",
    "df1 = pd.read_csv(\n",
    "    \"../Data/AirlinePassengerSatisfaction/airline_passenger_satisfaction.csv\"\n",
    ")\n",
    "df1_dic = pd.read_csv(\"../Data/AirlinePassengerSatisfaction/data_dictionary.csv\")\n",
    "\n",
    "# Dataframe 02 y diccionario de campos: Marketing Campaing Results\n",
    "df2 = pd.read_csv(\"../Data/MarketingCampaignResults/marketing_data.csv\")\n",
    "df2_dic = pd.read_csv(\"../Data/MarketingCampaignResults/marketing_data_dictionary.csv\")\n",
    "\n",
    "# Dataframe 03: Online Chess Games\n",
    "df3 = pd.read_csv(\"../Data/OnlineChessGames/chess_games.csv\")"
   ]
  },
  {
   "cell_type": "markdown",
   "metadata": {},
   "source": [
    "---\n",
    "\n",
    "### III: Exploración de los dataframes"
   ]
  },
  {
   "cell_type": "code",
   "execution_count": 19,
   "metadata": {},
   "outputs": [
    {
     "name": "stdout",
     "output_type": "stream",
     "text": [
      "Shape de df1: (129880, 24)\n",
      "Shape de df2: (2240, 28)\n",
      "Shape de df3: (20058, 17)\n"
     ]
    }
   ],
   "source": [
    "# Dimension de los dataframes potenciales\n",
    "for i in range(1, 4):\n",
    "    dataframe = f\"df{i}\"\n",
    "    shape = locals()[dataframe].shape\n",
    "    print(f\"Shape de {dataframe}: {shape}\")"
   ]
  }
 ],
 "metadata": {
  "kernelspec": {
   "display_name": ".venv",
   "language": "python",
   "name": "python3"
  },
  "language_info": {
   "codemirror_mode": {
    "name": "ipython",
    "version": 3
   },
   "file_extension": ".py",
   "mimetype": "text/x-python",
   "name": "python",
   "nbconvert_exporter": "python",
   "pygments_lexer": "ipython3",
   "version": "3.11.4"
  },
  "orig_nbformat": 4
 },
 "nbformat": 4,
 "nbformat_minor": 2
}
