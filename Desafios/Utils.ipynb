{
 "cells": [
  {
   "cell_type": "markdown",
   "metadata": {},
   "source": [
    "### Utilities\n",
    "\n",
    "Gerick Toro - Comisión 46270\n",
    "\n",
    "---\n",
    "\n",
    "### I: Descarga de los datasets"
   ]
  },
  {
   "cell_type": "code",
   "execution_count": null,
   "metadata": {},
   "outputs": [],
   "source": [
    "# En caso de no tener las librerias, descomentar para instalar\n",
    "\n",
    "#!pip install requests"
   ]
  },
  {
   "cell_type": "code",
   "execution_count": 7,
   "metadata": {},
   "outputs": [],
   "source": [
    "# Librerias necesarias para obtener los datasets\n",
    "import requests\n",
    "import zipfile\n",
    "import io"
   ]
  },
  {
   "cell_type": "code",
   "execution_count": 13,
   "metadata": {},
   "outputs": [],
   "source": [
    "# Opcional, los datasets ya se encuentran en el directorio \"Data\"\n",
    "# Datasets publicos potenciales\n",
    "datasets = {\n",
    "    \"OnlineChessGames\": \"https://maven-datasets.s3.amazonaws.com/Online+Chess+Games/Online+Chess+Games.zip\",\n",
    "    \"AirlinePassengerSatisfaction\": \"https://maven-datasets.s3.amazonaws.com/Airline+Passenger+Satisfaction/Airline+Passenger+Satisfaction.zip\",\n",
    "    \"MarketingCampaignResults\": \"https://maven-datasets.s3.amazonaws.com/Marketing+Campaigns/Marketing+Data.zip\",\n",
    "}\n",
    "\n",
    "# Descargamos y descomprimimos los datasets\n",
    "for name, url in datasets.items():\n",
    "    response = requests.get(url)\n",
    "    zip_ref = zipfile.ZipFile(io.BytesIO(response.content))\n",
    "    extract_path = f\"../Data/{name}\"  # Path donde guardaremos los datasets\n",
    "    zip_ref.extractall(extract_path)\n",
    "\n",
    "# Limpiamos las variables, que ya no volveremos a usar\n",
    "del datasets, extract_path, name, response, url, zip_ref"
   ]
  }
 ],
 "metadata": {
  "kernelspec": {
   "display_name": ".venv",
   "language": "python",
   "name": "python3"
  },
  "language_info": {
   "codemirror_mode": {
    "name": "ipython",
    "version": 3
   },
   "file_extension": ".py",
   "mimetype": "text/x-python",
   "name": "python",
   "nbconvert_exporter": "python",
   "pygments_lexer": "ipython3",
   "version": "3.11.4"
  },
  "orig_nbformat": 4
 },
 "nbformat": 4,
 "nbformat_minor": 2
}
