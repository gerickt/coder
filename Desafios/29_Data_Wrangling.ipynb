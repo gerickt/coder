{
 "cells": [
  {
   "cell_type": "markdown",
   "metadata": {},
   "source": [
    "## Desafío - Data Wrangling\n",
    "\n",
    "Gerick Toro - Comisión 46270\n",
    "\n",
    "---"
   ]
  },
  {
   "cell_type": "code",
   "execution_count": 1,
   "metadata": {},
   "outputs": [],
   "source": [
    "# para eliminar warnings de la biblioteca seaborn\n",
    "import warnings\n",
    "\n",
    "warnings.filterwarnings(\"ignore\")"
   ]
  },
  {
   "cell_type": "code",
   "execution_count": 2,
   "metadata": {},
   "outputs": [],
   "source": [
    "# librerias que emplearemos en el analisis\n",
    "import pandas as pd\n",
    "import matplotlib.pyplot as plt\n",
    "import seaborn as sns\n",
    "import numpy as np"
   ]
  },
  {
   "cell_type": "code",
   "execution_count": 15,
   "metadata": {},
   "outputs": [],
   "source": [
    "# URL donde tenemos almacenados los dataframes\n",
    "url = \"https://raw.githubusercontent.com/gerickt/coder/main/Data/AirlinePassengerSatisfaction/airline_passenger_satisfaction.csv\"\n",
    "dic = \"https://raw.githubusercontent.com/gerickt/coder/main/Data/AirlinePassengerSatisfaction/data_dictionary.csv\"\n",
    "# Construyendo los dataframes\n",
    "airline_data = pd.read_csv(url, index_col=0)\n",
    "data_dictionary = pd.read_csv(dic, index_col=0)"
   ]
  },
  {
   "cell_type": "code",
   "execution_count": 30,
   "metadata": {},
   "outputs": [
    {
     "data": {
      "text/plain": [
       "(129880, 23)"
      ]
     },
     "execution_count": 30,
     "metadata": {},
     "output_type": "execute_result"
    }
   ],
   "source": [
    "# Verificamos el tamaño del dataframe\n",
    "airline_data.shape"
   ]
  },
  {
   "cell_type": "markdown",
   "metadata": {},
   "source": [
    "#### Tratar los Valores Nulos:"
   ]
  },
  {
   "cell_type": "code",
   "execution_count": 16,
   "metadata": {},
   "outputs": [
    {
     "name": "stdout",
     "output_type": "stream",
     "text": [
      "Gender                                      0\n",
      "Age                                         0\n",
      "Customer Type                               0\n",
      "Type of Travel                              0\n",
      "Class                                       0\n",
      "Flight Distance                             0\n",
      "Departure Delay                             0\n",
      "Arrival Delay                             393\n",
      "Departure and Arrival Time Convenience      0\n",
      "Ease of Online Booking                      0\n",
      "Check-in Service                            0\n",
      "Online Boarding                             0\n",
      "Gate Location                               0\n",
      "On-board Service                            0\n",
      "Seat Comfort                                0\n",
      "Leg Room Service                            0\n",
      "Cleanliness                                 0\n",
      "Food and Drink                              0\n",
      "In-flight Service                           0\n",
      "In-flight Wifi Service                      0\n",
      "In-flight Entertainment                     0\n",
      "Baggage Handling                            0\n",
      "Satisfaction                                0\n",
      "dtype: int64\n"
     ]
    }
   ],
   "source": [
    "# Verificar la presencia de valores nulos o NaN en el dataset\n",
    "missing_values = airline_data.isnull().sum()\n",
    "print(missing_values)"
   ]
  },
  {
   "cell_type": "code",
   "execution_count": 21,
   "metadata": {},
   "outputs": [
    {
     "data": {
      "text/html": [
       "<div>\n",
       "<style scoped>\n",
       "    .dataframe tbody tr th:only-of-type {\n",
       "        vertical-align: middle;\n",
       "    }\n",
       "\n",
       "    .dataframe tbody tr th {\n",
       "        vertical-align: top;\n",
       "    }\n",
       "\n",
       "    .dataframe thead th {\n",
       "        text-align: right;\n",
       "    }\n",
       "</style>\n",
       "<table border=\"1\" class=\"dataframe\">\n",
       "  <thead>\n",
       "    <tr style=\"text-align: right;\">\n",
       "      <th></th>\n",
       "      <th>Age</th>\n",
       "      <th>Flight Distance</th>\n",
       "      <th>Departure Delay</th>\n",
       "      <th>Arrival Delay</th>\n",
       "      <th>Departure and Arrival Time Convenience</th>\n",
       "      <th>Ease of Online Booking</th>\n",
       "      <th>Check-in Service</th>\n",
       "      <th>Online Boarding</th>\n",
       "      <th>Gate Location</th>\n",
       "      <th>On-board Service</th>\n",
       "      <th>Seat Comfort</th>\n",
       "      <th>Leg Room Service</th>\n",
       "      <th>Cleanliness</th>\n",
       "      <th>Food and Drink</th>\n",
       "      <th>In-flight Service</th>\n",
       "      <th>In-flight Wifi Service</th>\n",
       "      <th>In-flight Entertainment</th>\n",
       "      <th>Baggage Handling</th>\n",
       "    </tr>\n",
       "  </thead>\n",
       "  <tbody>\n",
       "    <tr>\n",
       "      <th>count</th>\n",
       "      <td>129880.000000</td>\n",
       "      <td>129880.000000</td>\n",
       "      <td>129880.000000</td>\n",
       "      <td>129880.000000</td>\n",
       "      <td>129880.000000</td>\n",
       "      <td>129880.000000</td>\n",
       "      <td>129880.000000</td>\n",
       "      <td>129880.000000</td>\n",
       "      <td>129880.000000</td>\n",
       "      <td>129880.000000</td>\n",
       "      <td>129880.000000</td>\n",
       "      <td>129880.000000</td>\n",
       "      <td>129880.000000</td>\n",
       "      <td>129880.000000</td>\n",
       "      <td>129880.000000</td>\n",
       "      <td>129880.000000</td>\n",
       "      <td>129880.000000</td>\n",
       "      <td>129880.000000</td>\n",
       "    </tr>\n",
       "    <tr>\n",
       "      <th>mean</th>\n",
       "      <td>39.427957</td>\n",
       "      <td>1190.316392</td>\n",
       "      <td>14.713713</td>\n",
       "      <td>15.091129</td>\n",
       "      <td>3.057599</td>\n",
       "      <td>2.756876</td>\n",
       "      <td>3.306267</td>\n",
       "      <td>3.252633</td>\n",
       "      <td>2.976925</td>\n",
       "      <td>3.383023</td>\n",
       "      <td>3.441361</td>\n",
       "      <td>3.350878</td>\n",
       "      <td>3.286326</td>\n",
       "      <td>3.204774</td>\n",
       "      <td>3.642193</td>\n",
       "      <td>2.728696</td>\n",
       "      <td>3.358077</td>\n",
       "      <td>3.632114</td>\n",
       "    </tr>\n",
       "    <tr>\n",
       "      <th>std</th>\n",
       "      <td>15.119360</td>\n",
       "      <td>997.452477</td>\n",
       "      <td>38.071126</td>\n",
       "      <td>38.407410</td>\n",
       "      <td>1.526741</td>\n",
       "      <td>1.401740</td>\n",
       "      <td>1.266185</td>\n",
       "      <td>1.350719</td>\n",
       "      <td>1.278520</td>\n",
       "      <td>1.287099</td>\n",
       "      <td>1.319289</td>\n",
       "      <td>1.316252</td>\n",
       "      <td>1.313682</td>\n",
       "      <td>1.329933</td>\n",
       "      <td>1.176669</td>\n",
       "      <td>1.329340</td>\n",
       "      <td>1.334049</td>\n",
       "      <td>1.180025</td>\n",
       "    </tr>\n",
       "    <tr>\n",
       "      <th>min</th>\n",
       "      <td>7.000000</td>\n",
       "      <td>31.000000</td>\n",
       "      <td>0.000000</td>\n",
       "      <td>0.000000</td>\n",
       "      <td>0.000000</td>\n",
       "      <td>0.000000</td>\n",
       "      <td>0.000000</td>\n",
       "      <td>0.000000</td>\n",
       "      <td>0.000000</td>\n",
       "      <td>0.000000</td>\n",
       "      <td>0.000000</td>\n",
       "      <td>0.000000</td>\n",
       "      <td>0.000000</td>\n",
       "      <td>0.000000</td>\n",
       "      <td>0.000000</td>\n",
       "      <td>0.000000</td>\n",
       "      <td>0.000000</td>\n",
       "      <td>1.000000</td>\n",
       "    </tr>\n",
       "    <tr>\n",
       "      <th>25%</th>\n",
       "      <td>27.000000</td>\n",
       "      <td>414.000000</td>\n",
       "      <td>0.000000</td>\n",
       "      <td>0.000000</td>\n",
       "      <td>2.000000</td>\n",
       "      <td>2.000000</td>\n",
       "      <td>3.000000</td>\n",
       "      <td>2.000000</td>\n",
       "      <td>2.000000</td>\n",
       "      <td>2.000000</td>\n",
       "      <td>2.000000</td>\n",
       "      <td>2.000000</td>\n",
       "      <td>2.000000</td>\n",
       "      <td>2.000000</td>\n",
       "      <td>3.000000</td>\n",
       "      <td>2.000000</td>\n",
       "      <td>2.000000</td>\n",
       "      <td>3.000000</td>\n",
       "    </tr>\n",
       "    <tr>\n",
       "      <th>50%</th>\n",
       "      <td>40.000000</td>\n",
       "      <td>844.000000</td>\n",
       "      <td>0.000000</td>\n",
       "      <td>0.000000</td>\n",
       "      <td>3.000000</td>\n",
       "      <td>3.000000</td>\n",
       "      <td>3.000000</td>\n",
       "      <td>3.000000</td>\n",
       "      <td>3.000000</td>\n",
       "      <td>4.000000</td>\n",
       "      <td>4.000000</td>\n",
       "      <td>4.000000</td>\n",
       "      <td>3.000000</td>\n",
       "      <td>3.000000</td>\n",
       "      <td>4.000000</td>\n",
       "      <td>3.000000</td>\n",
       "      <td>4.000000</td>\n",
       "      <td>4.000000</td>\n",
       "    </tr>\n",
       "    <tr>\n",
       "      <th>75%</th>\n",
       "      <td>51.000000</td>\n",
       "      <td>1744.000000</td>\n",
       "      <td>12.000000</td>\n",
       "      <td>13.000000</td>\n",
       "      <td>4.000000</td>\n",
       "      <td>4.000000</td>\n",
       "      <td>4.000000</td>\n",
       "      <td>4.000000</td>\n",
       "      <td>4.000000</td>\n",
       "      <td>4.000000</td>\n",
       "      <td>5.000000</td>\n",
       "      <td>4.000000</td>\n",
       "      <td>4.000000</td>\n",
       "      <td>4.000000</td>\n",
       "      <td>5.000000</td>\n",
       "      <td>4.000000</td>\n",
       "      <td>4.000000</td>\n",
       "      <td>5.000000</td>\n",
       "    </tr>\n",
       "    <tr>\n",
       "      <th>max</th>\n",
       "      <td>85.000000</td>\n",
       "      <td>4983.000000</td>\n",
       "      <td>1592.000000</td>\n",
       "      <td>1584.000000</td>\n",
       "      <td>5.000000</td>\n",
       "      <td>5.000000</td>\n",
       "      <td>5.000000</td>\n",
       "      <td>5.000000</td>\n",
       "      <td>5.000000</td>\n",
       "      <td>5.000000</td>\n",
       "      <td>5.000000</td>\n",
       "      <td>5.000000</td>\n",
       "      <td>5.000000</td>\n",
       "      <td>5.000000</td>\n",
       "      <td>5.000000</td>\n",
       "      <td>5.000000</td>\n",
       "      <td>5.000000</td>\n",
       "      <td>5.000000</td>\n",
       "    </tr>\n",
       "  </tbody>\n",
       "</table>\n",
       "</div>"
      ],
      "text/plain": [
       "                 Age  Flight Distance  Departure Delay  Arrival Delay  \\\n",
       "count  129880.000000    129880.000000    129880.000000  129880.000000   \n",
       "mean       39.427957      1190.316392        14.713713      15.091129   \n",
       "std        15.119360       997.452477        38.071126      38.407410   \n",
       "min         7.000000        31.000000         0.000000       0.000000   \n",
       "25%        27.000000       414.000000         0.000000       0.000000   \n",
       "50%        40.000000       844.000000         0.000000       0.000000   \n",
       "75%        51.000000      1744.000000        12.000000      13.000000   \n",
       "max        85.000000      4983.000000      1592.000000    1584.000000   \n",
       "\n",
       "       Departure and Arrival Time Convenience  Ease of Online Booking  \\\n",
       "count                           129880.000000           129880.000000   \n",
       "mean                                 3.057599                2.756876   \n",
       "std                                  1.526741                1.401740   \n",
       "min                                  0.000000                0.000000   \n",
       "25%                                  2.000000                2.000000   \n",
       "50%                                  3.000000                3.000000   \n",
       "75%                                  4.000000                4.000000   \n",
       "max                                  5.000000                5.000000   \n",
       "\n",
       "       Check-in Service  Online Boarding  Gate Location  On-board Service  \\\n",
       "count     129880.000000    129880.000000  129880.000000     129880.000000   \n",
       "mean           3.306267         3.252633       2.976925          3.383023   \n",
       "std            1.266185         1.350719       1.278520          1.287099   \n",
       "min            0.000000         0.000000       0.000000          0.000000   \n",
       "25%            3.000000         2.000000       2.000000          2.000000   \n",
       "50%            3.000000         3.000000       3.000000          4.000000   \n",
       "75%            4.000000         4.000000       4.000000          4.000000   \n",
       "max            5.000000         5.000000       5.000000          5.000000   \n",
       "\n",
       "        Seat Comfort  Leg Room Service    Cleanliness  Food and Drink  \\\n",
       "count  129880.000000     129880.000000  129880.000000   129880.000000   \n",
       "mean        3.441361          3.350878       3.286326        3.204774   \n",
       "std         1.319289          1.316252       1.313682        1.329933   \n",
       "min         0.000000          0.000000       0.000000        0.000000   \n",
       "25%         2.000000          2.000000       2.000000        2.000000   \n",
       "50%         4.000000          4.000000       3.000000        3.000000   \n",
       "75%         5.000000          4.000000       4.000000        4.000000   \n",
       "max         5.000000          5.000000       5.000000        5.000000   \n",
       "\n",
       "       In-flight Service  In-flight Wifi Service  In-flight Entertainment  \\\n",
       "count      129880.000000           129880.000000            129880.000000   \n",
       "mean            3.642193                2.728696                 3.358077   \n",
       "std             1.176669                1.329340                 1.334049   \n",
       "min             0.000000                0.000000                 0.000000   \n",
       "25%             3.000000                2.000000                 2.000000   \n",
       "50%             4.000000                3.000000                 4.000000   \n",
       "75%             5.000000                4.000000                 4.000000   \n",
       "max             5.000000                5.000000                 5.000000   \n",
       "\n",
       "       Baggage Handling  \n",
       "count     129880.000000  \n",
       "mean           3.632114  \n",
       "std            1.180025  \n",
       "min            1.000000  \n",
       "25%            3.000000  \n",
       "50%            4.000000  \n",
       "75%            5.000000  \n",
       "max            5.000000  "
      ]
     },
     "execution_count": 21,
     "metadata": {},
     "output_type": "execute_result"
    }
   ],
   "source": [
    "# Resumen estadístico para identificar posibles valores atípicos\n",
    "airline_data.describe()"
   ]
  },
  {
   "cell_type": "markdown",
   "metadata": {},
   "source": [
    "Mas del 50% de los valores son 0, en \"Arrival Delay\" por lo que podemos asumir, que casi siempre llegan en 0, por lo que podemos tratar los valores nulos reempalzandolos con ceros (0)."
   ]
  },
  {
   "cell_type": "code",
   "execution_count": 31,
   "metadata": {},
   "outputs": [],
   "source": [
    "airline_data[\"Arrival Delay\"].fillna(0, inplace=True)"
   ]
  },
  {
   "cell_type": "code",
   "execution_count": 32,
   "metadata": {},
   "outputs": [
    {
     "data": {
      "text/plain": [
       "False"
      ]
     },
     "execution_count": 32,
     "metadata": {},
     "output_type": "execute_result"
    }
   ],
   "source": [
    "# Verificamos si queda algun valor nulo en el dataframe\n",
    "airline_data.isnull().sum().any()"
   ]
  },
  {
   "cell_type": "code",
   "execution_count": 33,
   "metadata": {},
   "outputs": [
    {
     "data": {
      "text/plain": [
       "0"
      ]
     },
     "execution_count": 33,
     "metadata": {},
     "output_type": "execute_result"
    }
   ],
   "source": [
    "# Verificamos si hay valores duplicados\n",
    "airline_data.duplicated().sum()"
   ]
  },
  {
   "cell_type": "markdown",
   "metadata": {},
   "source": [
    "#### Identificar y Tratar Outliers:"
   ]
  },
  {
   "cell_type": "markdown",
   "metadata": {},
   "source": [
    "La distribución de los retrasos en la llegada muestra una concentración significativa de valores en torno a 0, lo que indica que muchos vuelos llegan a tiempo o con retrasos mínimos. Sin embargo, también hay una cola larga en la distribución, lo que sugiere la presencia de algunos retrasos muy largos."
   ]
  },
  {
   "cell_type": "code",
   "execution_count": 34,
   "metadata": {},
   "outputs": [
    {
     "data": {
      "text/plain": [
       "count    129880.000000\n",
       "mean         15.091129\n",
       "std          38.407410\n",
       "min           0.000000\n",
       "25%           0.000000\n",
       "50%           0.000000\n",
       "75%          13.000000\n",
       "max        1584.000000\n",
       "Name: Arrival Delay, dtype: float64"
      ]
     },
     "execution_count": 34,
     "metadata": {},
     "output_type": "execute_result"
    }
   ],
   "source": [
    "# Calcular estadísticas clave para 'Arrival Delay'\n",
    "arrival_delay_stats = airline_data[\"Arrival Delay\"].describe()\n",
    "arrival_delay_stats"
   ]
  },
  {
   "cell_type": "markdown",
   "metadata": {},
   "source": [
    "- Estadísticas Clave\n",
    "- Media: 15.09 minutos\n",
    "- Desviación Estándar: 38.40 minutos\n",
    "- Mediana (50%): 0 minutos (la mitad de los vuelos llegaron a tiempo o antes de tiempo)\n",
    "- Máximo: 1584 minutos"
   ]
  },
  {
   "cell_type": "code",
   "execution_count": 35,
   "metadata": {},
   "outputs": [
    {
     "data": {
      "image/png": "[encoded data removed]",
      "text/plain": [
       "<Figure size 1000x600 with 1 Axes>"
      ]
     },
     "metadata": {},
     "output_type": "display_data"
    }
   ],
   "source": [
    "# Analizar la distribución de 'Arrival Delay'\n",
    "plt.figure(figsize=(10, 6))\n",
    "sns.histplot(airline_data[\"Arrival Delay\"].dropna(), kde=True, bins=30)\n",
    "plt.title(\"Distribución de los Retrasos en la Llegada\")\n",
    "plt.xlabel(\"Retraso en la Llegada (minutos)\")\n",
    "plt.ylabel(\"Frecuencia\")\n",
    "plt.show()"
   ]
  },
  {
   "cell_type": "markdown",
   "metadata": {},
   "source": [
    " Usaremos el método del rango intercuartílico (IQR) para establecer límites superior e inferior, más allá de los cuales los valores se consideran atípicos."
   ]
  },
  {
   "cell_type": "code",
   "execution_count": 36,
   "metadata": {},
   "outputs": [],
   "source": [
    "# Definición de una función para calcular el IQR y los límites para identificar outliers\n",
    "def detect_outliers(df, column):\n",
    "    Q1 = df[column].quantile(0.25)\n",
    "    Q3 = df[column].quantile(0.75)\n",
    "    IQR = Q3 - Q1\n",
    "    lower_bound = Q1 - 1.5 * IQR\n",
    "    upper_bound = Q3 + 1.5 * IQR\n",
    "    return lower_bound, upper_bound\n",
    "\n",
    "\n",
    "# Columnas a examinar para outliers\n",
    "columns_to_check = [\"Age\", \"Flight Distance\", \"Departure Delay\", \"Arrival Delay\"]"
   ]
  },
  {
   "cell_type": "code",
   "execution_count": 38,
   "metadata": {},
   "outputs": [
    {
     "data": {
      "text/html": [
       "<div>\n",
       "<style scoped>\n",
       "    .dataframe tbody tr th:only-of-type {\n",
       "        vertical-align: middle;\n",
       "    }\n",
       "\n",
       "    .dataframe tbody tr th {\n",
       "        vertical-align: top;\n",
       "    }\n",
       "\n",
       "    .dataframe thead th {\n",
       "        text-align: right;\n",
       "    }\n",
       "</style>\n",
       "<table border=\"1\" class=\"dataframe\">\n",
       "  <thead>\n",
       "    <tr style=\"text-align: right;\">\n",
       "      <th></th>\n",
       "      <th>Límite inferior</th>\n",
       "      <th>Límite superior</th>\n",
       "      <th>Outliers inferior</th>\n",
       "      <th>Outliers superior</th>\n",
       "    </tr>\n",
       "  </thead>\n",
       "  <tbody>\n",
       "    <tr>\n",
       "      <th>Age</th>\n",
       "      <td>-9.0</td>\n",
       "      <td>87.0</td>\n",
       "      <td>0.0</td>\n",
       "      <td>0.0</td>\n",
       "    </tr>\n",
       "    <tr>\n",
       "      <th>Flight Distance</th>\n",
       "      <td>-1581.0</td>\n",
       "      <td>3739.0</td>\n",
       "      <td>0.0</td>\n",
       "      <td>2855.0</td>\n",
       "    </tr>\n",
       "    <tr>\n",
       "      <th>Departure Delay</th>\n",
       "      <td>-18.0</td>\n",
       "      <td>30.0</td>\n",
       "      <td>0.0</td>\n",
       "      <td>18098.0</td>\n",
       "    </tr>\n",
       "    <tr>\n",
       "      <th>Arrival Delay</th>\n",
       "      <td>-19.5</td>\n",
       "      <td>32.5</td>\n",
       "      <td>0.0</td>\n",
       "      <td>17492.0</td>\n",
       "    </tr>\n",
       "  </tbody>\n",
       "</table>\n",
       "</div>"
      ],
      "text/plain": [
       "                 Límite inferior  Límite superior  Outliers inferior  \\\n",
       "Age                         -9.0             87.0                0.0   \n",
       "Flight Distance          -1581.0           3739.0                0.0   \n",
       "Departure Delay            -18.0             30.0                0.0   \n",
       "Arrival Delay              -19.5             32.5                0.0   \n",
       "\n",
       "                 Outliers superior  \n",
       "Age                            0.0  \n",
       "Flight Distance             2855.0  \n",
       "Departure Delay            18098.0  \n",
       "Arrival Delay              17492.0  "
      ]
     },
     "execution_count": 38,
     "metadata": {},
     "output_type": "execute_result"
    }
   ],
   "source": [
    "# Identificar outliers en cada columna\n",
    "outliers_info = {}\n",
    "for column in columns_to_check:\n",
    "    lower_bound, upper_bound = detect_outliers(airline_data, column)\n",
    "    outliers_info[column] = {\n",
    "        \"Límite inferior\": lower_bound,\n",
    "        \"Límite superior\": upper_bound,\n",
    "        \"Outliers inferior\": (airline_data[column] < lower_bound).sum(),\n",
    "        \"Outliers superior\": (airline_data[column] > upper_bound).sum(),\n",
    "    }\n",
    "\n",
    "outliers_info_df = pd.DataFrame(outliers_info).T\n",
    "outliers_info_df"
   ]
  },
  {
   "cell_type": "markdown",
   "metadata": {},
   "source": [
    "#### Conclusión\n",
    "\n",
    "Hemos decidido mantener los outliers para el análisis de la satisfacción del cliente, ya que antener estos outliers puede proporcionar una visión más completa de todas las experiencias de los pasajeros, incluyendo aquellas que son atípicas pero pueden tener un impacto significativo en la satisfacción general.\n",
    "\n",
    "Por lo tanto nuestro dataframe esta listo para empezar con el EDA."
   ]
  }
 ],
 "metadata": {
  "kernelspec": {
   "display_name": ".venv",
   "language": "python",
   "name": "python3"
  },
  "language_info": {
   "codemirror_mode": {
    "name": "ipython",
    "version": 3
   },
   "file_extension": ".py",
   "mimetype": "text/x-python",
   "name": "python",
   "nbconvert_exporter": "python",
   "pygments_lexer": "ipython3",
   "version": "3.11.5"
  },
  "orig_nbformat": 4
 },
 "nbformat": 4,
 "nbformat_minor": 2
}
